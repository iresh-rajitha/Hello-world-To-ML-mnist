{
  "nbformat": 4,
  "nbformat_minor": 0,
  "metadata": {
    "colab": {
      "name": "DLN1.ipynb",
      "provenance": [],
      "collapsed_sections": [],
      "toc_visible": true
    },
    "kernelspec": {
      "name": "python3",
      "display_name": "Python 3"
    },
    "language_info": {
      "name": "python"
    }
  },
  "cells": [
    {
      "cell_type": "markdown",
      "metadata": {
        "id": "a8Fk5fKre7p_"
      },
      "source": [
        "# Import Data and Library"
      ]
    },
    {
      "cell_type": "code",
      "metadata": {
        "id": "8onofi4PUkIS",
        "colab": {
          "base_uri": "https://localhost:8080/"
        },
        "outputId": "b3176ba9-344d-46c1-a718-f0e90a179689"
      },
      "source": [
        "import tensorflow as tf\n",
        "import matplotlib.pyplot as plt\n",
        "import numpy as np\n",
        "import keras.utils\n",
        "import pandas as pd\n",
        "\n",
        "mnist = tf.keras.datasets.mnist\n",
        "(x_train, y_train),(x_test, y_test) = mnist.load_data()\n",
        "\n",
        "# x_train = x_train.reshape((x_train.shape[0], 28, 28, 1))\n",
        "# y_train = to_categorical(y_train)\n",
        "\n",
        "x_train = tf.keras.utils.normalize(x_train, axis=1)\n",
        "x_test = tf.keras.utils.normalize(x_test, axis=1)\n"
      ],
      "execution_count": null,
      "outputs": [
        {
          "output_type": "stream",
          "name": "stdout",
          "text": [
            "Downloading data from https://storage.googleapis.com/tensorflow/tf-keras-datasets/mnist.npz\n",
            "11493376/11490434 [==============================] - 0s 0us/step\n",
            "11501568/11490434 [==============================] - 0s 0us/step\n"
          ]
        }
      ]
    },
    {
      "cell_type": "markdown",
      "metadata": {
        "id": "COfuqf_VfDJx"
      },
      "source": [
        "# Print Shape Of input data"
      ]
    },
    {
      "cell_type": "code",
      "metadata": {
        "colab": {
          "base_uri": "https://localhost:8080/"
        },
        "id": "8xvJDUNRsbgk",
        "outputId": "c243c592-a648-4d2b-f725-d1d66e0f2df8"
      },
      "source": [
        "x_train.shape"
      ],
      "execution_count": null,
      "outputs": [
        {
          "output_type": "execute_result",
          "data": {
            "text/plain": [
              "(60000, 28, 28)"
            ]
          },
          "metadata": {},
          "execution_count": 2
        }
      ]
    },
    {
      "cell_type": "code",
      "metadata": {
        "colab": {
          "base_uri": "https://localhost:8080/"
        },
        "id": "99MvAUG-LqbR",
        "outputId": "7495cf81-a4e2-4799-e1f9-f4292e682505"
      },
      "source": [
        "x_train[0].shape"
      ],
      "execution_count": null,
      "outputs": [
        {
          "output_type": "execute_result",
          "data": {
            "text/plain": [
              "(28, 28)"
            ]
          },
          "metadata": {},
          "execution_count": 3
        }
      ]
    },
    {
      "cell_type": "markdown",
      "metadata": {
        "id": "_EeH-gBtfNQ8"
      },
      "source": [
        "# Add one dimension to dataset"
      ]
    },
    {
      "cell_type": "code",
      "metadata": {
        "colab": {
          "base_uri": "https://localhost:8080/"
        },
        "id": "9UkXYhXoP_t3",
        "outputId": "4dc60e9b-cdac-4ed1-e35c-4cac2100712c"
      },
      "source": [
        "image_size= 28\n",
        "x_train_new = np.array(x_train).reshape(-1, image_size , image_size , 1)\n",
        "x_test_new = np.array(x_test).reshape(-1, image_size , image_size , 1)\n",
        "x_train_new.shape[1:]"
      ],
      "execution_count": null,
      "outputs": [
        {
          "output_type": "execute_result",
          "data": {
            "text/plain": [
              "(28, 28, 1)"
            ]
          },
          "metadata": {},
          "execution_count": 4
        }
      ]
    },
    {
      "cell_type": "markdown",
      "metadata": {
        "id": "pgPp1GPifZ7R"
      },
      "source": [
        "# Make CNN model"
      ]
    },
    {
      "cell_type": "code",
      "metadata": {
        "id": "xKGHdZIXY25X",
        "colab": {
          "base_uri": "https://localhost:8080/"
        },
        "outputId": "eb170670-cd03-4c5e-bab3-68bb37860208"
      },
      "source": [
        "model = tf.keras.models.Sequential()\n",
        "## first cnn layer\n",
        "model.add(tf.keras.layers.Conv2D(64, (3,3), input_shape = x_train_new.shape[1:]))\n",
        "model.add(tf.keras.layers.MaxPool2D(pool_size=(2,2)))\n",
        "# second cnn layer\n",
        "model.add(tf.keras.layers.Conv2D(filters=32, kernel_size=3, activation='relu'))\n",
        "model.add(tf.keras.layers.MaxPool2D(pool_size=2, strides=2))\n",
        "\n",
        "model.add(tf.keras.layers.Flatten())\n",
        "model.add(tf.keras.layers.Dense(128, activation=tf.nn.relu))\n",
        "model.add(tf.keras.layers.Dense(128, activation=tf.nn.relu))\n",
        "model.add(tf.keras.layers.Dense(10, activation=tf.nn.softmax))\n",
        "model.compile(optimizer='adam',\n",
        "              loss='sparse_categorical_crossentropy',\n",
        "              metrics=['accuracy'])\n",
        "# model.compile(optimizer='adam',\n",
        "#               loss='binary_crossentropy',\n",
        "#               metrics=['accuracy'])\n",
        "# model.compile(optimizer='adam',\n",
        "#               loss='categorical_crossentropy',\n",
        "#               metrics=['accuracy'])\n",
        "model.summary()"
      ],
      "execution_count": null,
      "outputs": [
        {
          "output_type": "stream",
          "name": "stdout",
          "text": [
            "Model: \"sequential\"\n",
            "_________________________________________________________________\n",
            "Layer (type)                 Output Shape              Param #   \n",
            "=================================================================\n",
            "conv2d (Conv2D)              (None, 26, 26, 64)        640       \n",
            "_________________________________________________________________\n",
            "max_pooling2d (MaxPooling2D) (None, 13, 13, 64)        0         \n",
            "_________________________________________________________________\n",
            "conv2d_1 (Conv2D)            (None, 11, 11, 32)        18464     \n",
            "_________________________________________________________________\n",
            "max_pooling2d_1 (MaxPooling2 (None, 5, 5, 32)          0         \n",
            "_________________________________________________________________\n",
            "flatten (Flatten)            (None, 800)               0         \n",
            "_________________________________________________________________\n",
            "dense (Dense)                (None, 128)               102528    \n",
            "_________________________________________________________________\n",
            "dense_1 (Dense)              (None, 128)               16512     \n",
            "_________________________________________________________________\n",
            "dense_2 (Dense)              (None, 10)                1290      \n",
            "=================================================================\n",
            "Total params: 139,434\n",
            "Trainable params: 139,434\n",
            "Non-trainable params: 0\n",
            "_________________________________________________________________\n"
          ]
        }
      ]
    },
    {
      "cell_type": "markdown",
      "metadata": {
        "id": "0cvhTCb-fg4n"
      },
      "source": [
        "# Train the model"
      ]
    },
    {
      "cell_type": "code",
      "metadata": {
        "colab": {
          "base_uri": "https://localhost:8080/"
        },
        "id": "drT4EcN0ZhhR",
        "outputId": "e733cbf4-f82b-4ed7-8dd1-4d34f5a428e8"
      },
      "source": [
        "history = model.fit( x_train_new, y_train, epochs=30, validation_data=(x_test_new, y_test))"
      ],
      "execution_count": null,
      "outputs": [
        {
          "output_type": "stream",
          "name": "stdout",
          "text": [
            "Epoch 1/30\n",
            "1875/1875 [==============================] - 69s 36ms/step - loss: 0.1683 - accuracy: 0.9472 - val_loss: 0.0615 - val_accuracy: 0.9806\n",
            "Epoch 2/30\n",
            "1875/1875 [==============================] - 69s 37ms/step - loss: 0.0583 - accuracy: 0.9820 - val_loss: 0.0499 - val_accuracy: 0.9845\n",
            "Epoch 3/30\n",
            "1875/1875 [==============================] - 69s 37ms/step - loss: 0.0391 - accuracy: 0.9873 - val_loss: 0.0501 - val_accuracy: 0.9838\n",
            "Epoch 4/30\n",
            "1875/1875 [==============================] - 69s 37ms/step - loss: 0.0319 - accuracy: 0.9899 - val_loss: 0.0426 - val_accuracy: 0.9879\n",
            "Epoch 5/30\n",
            "1875/1875 [==============================] - 69s 37ms/step - loss: 0.0253 - accuracy: 0.9918 - val_loss: 0.0689 - val_accuracy: 0.9818\n",
            "Epoch 6/30\n",
            "1875/1875 [==============================] - 70s 37ms/step - loss: 0.0197 - accuracy: 0.9936 - val_loss: 0.0453 - val_accuracy: 0.9887\n",
            "Epoch 7/30\n",
            "1875/1875 [==============================] - 69s 37ms/step - loss: 0.0176 - accuracy: 0.9940 - val_loss: 0.0567 - val_accuracy: 0.9864\n",
            "Epoch 8/30\n",
            "1875/1875 [==============================] - 70s 37ms/step - loss: 0.0142 - accuracy: 0.9950 - val_loss: 0.0488 - val_accuracy: 0.9869\n",
            "Epoch 9/30\n",
            "1875/1875 [==============================] - 69s 37ms/step - loss: 0.0125 - accuracy: 0.9958 - val_loss: 0.0541 - val_accuracy: 0.9885\n",
            "Epoch 10/30\n",
            "1875/1875 [==============================] - 68s 36ms/step - loss: 0.0113 - accuracy: 0.9965 - val_loss: 0.0546 - val_accuracy: 0.9894\n",
            "Epoch 11/30\n",
            "1875/1875 [==============================] - 68s 36ms/step - loss: 0.0103 - accuracy: 0.9966 - val_loss: 0.0524 - val_accuracy: 0.9878\n",
            "Epoch 12/30\n",
            "1875/1875 [==============================] - 68s 36ms/step - loss: 0.0101 - accuracy: 0.9969 - val_loss: 0.0771 - val_accuracy: 0.9850\n",
            "Epoch 13/30\n",
            "1875/1875 [==============================] - 69s 37ms/step - loss: 0.0086 - accuracy: 0.9971 - val_loss: 0.0819 - val_accuracy: 0.9848\n",
            "Epoch 14/30\n",
            "1875/1875 [==============================] - 69s 37ms/step - loss: 0.0089 - accuracy: 0.9974 - val_loss: 0.0550 - val_accuracy: 0.9882\n",
            "Epoch 15/30\n",
            "1875/1875 [==============================] - 68s 36ms/step - loss: 0.0093 - accuracy: 0.9972 - val_loss: 0.0779 - val_accuracy: 0.9875\n",
            "Epoch 16/30\n",
            "1875/1875 [==============================] - 68s 36ms/step - loss: 0.0084 - accuracy: 0.9976 - val_loss: 0.0566 - val_accuracy: 0.9883\n",
            "Epoch 17/30\n",
            "1875/1875 [==============================] - 68s 36ms/step - loss: 0.0070 - accuracy: 0.9980 - val_loss: 0.0661 - val_accuracy: 0.9883\n",
            "Epoch 18/30\n",
            "1875/1875 [==============================] - 69s 37ms/step - loss: 0.0078 - accuracy: 0.9977 - val_loss: 0.0933 - val_accuracy: 0.9869\n",
            "Epoch 19/30\n",
            "1875/1875 [==============================] - 69s 37ms/step - loss: 0.0073 - accuracy: 0.9976 - val_loss: 0.0637 - val_accuracy: 0.9885\n",
            "Epoch 20/30\n",
            "1875/1875 [==============================] - 69s 37ms/step - loss: 0.0072 - accuracy: 0.9980 - val_loss: 0.0790 - val_accuracy: 0.9859\n",
            "Epoch 21/30\n",
            "1875/1875 [==============================] - 69s 37ms/step - loss: 0.0071 - accuracy: 0.9979 - val_loss: 0.0664 - val_accuracy: 0.9908\n",
            "Epoch 22/30\n",
            "1875/1875 [==============================] - 69s 37ms/step - loss: 0.0074 - accuracy: 0.9978 - val_loss: 0.0821 - val_accuracy: 0.9870\n",
            "Epoch 23/30\n",
            "1875/1875 [==============================] - 69s 37ms/step - loss: 0.0069 - accuracy: 0.9982 - val_loss: 0.0795 - val_accuracy: 0.9880\n",
            "Epoch 24/30\n",
            "1875/1875 [==============================] - 69s 37ms/step - loss: 0.0064 - accuracy: 0.9984 - val_loss: 0.0846 - val_accuracy: 0.9895\n",
            "Epoch 25/30\n",
            "1875/1875 [==============================] - 69s 37ms/step - loss: 0.0078 - accuracy: 0.9980 - val_loss: 0.0825 - val_accuracy: 0.9883\n",
            "Epoch 26/30\n",
            "1875/1875 [==============================] - 69s 37ms/step - loss: 0.0062 - accuracy: 0.9984 - val_loss: 0.0713 - val_accuracy: 0.9892\n",
            "Epoch 27/30\n",
            "1875/1875 [==============================] - 68s 36ms/step - loss: 0.0060 - accuracy: 0.9984 - val_loss: 0.0903 - val_accuracy: 0.9884\n",
            "Epoch 28/30\n",
            "1875/1875 [==============================] - 68s 37ms/step - loss: 0.0076 - accuracy: 0.9981 - val_loss: 0.0833 - val_accuracy: 0.9870\n",
            "Epoch 29/30\n",
            "1875/1875 [==============================] - 69s 37ms/step - loss: 0.0052 - accuracy: 0.9987 - val_loss: 0.0899 - val_accuracy: 0.9882\n",
            "Epoch 30/30\n",
            "1875/1875 [==============================] - 69s 37ms/step - loss: 0.0068 - accuracy: 0.9981 - val_loss: 0.1023 - val_accuracy: 0.9883\n"
          ]
        }
      ]
    },
    {
      "cell_type": "code",
      "metadata": {
        "colab": {
          "base_uri": "https://localhost:8080/"
        },
        "id": "rIi65eDl2CDZ",
        "outputId": "9677fbba-3389-41ed-ccc8-893f2064bf13"
      },
      "source": [
        "print(history.history.keys())"
      ],
      "execution_count": null,
      "outputs": [
        {
          "output_type": "stream",
          "name": "stdout",
          "text": [
            "dict_keys(['loss', 'accuracy', 'val_loss', 'val_accuracy'])\n"
          ]
        }
      ]
    },
    {
      "cell_type": "markdown",
      "metadata": {
        "id": "q57xsY1nf-l-"
      },
      "source": [
        "# Evaluate Single dataset"
      ]
    },
    {
      "cell_type": "code",
      "metadata": {
        "colab": {
          "base_uri": "https://localhost:8080/"
        },
        "id": "197do_YAan2U",
        "outputId": "dd3a2539-d93e-42df-bf6b-2feef463c801"
      },
      "source": [
        "predictions = model.predict(x_test_new)\n",
        "print(np.argmax(predictions[1335]))"
      ],
      "execution_count": null,
      "outputs": [
        {
          "output_type": "stream",
          "name": "stdout",
          "text": [
            "2\n"
          ]
        }
      ]
    },
    {
      "cell_type": "code",
      "metadata": {
        "colab": {
          "base_uri": "https://localhost:8080/",
          "height": 265
        },
        "id": "Qbtj9AB6bDhf",
        "outputId": "9ca13e90-db80-4429-b5d0-6323ce8de37a"
      },
      "source": [
        "plt.imshow(x_test[1335],cmap=plt.cm.binary)\n",
        "plt.show()"
      ],
      "execution_count": null,
      "outputs": [
        {
          "output_type": "display_data",
          "data": {
            "image/png": "[encoded data removed]",
            "text/plain": [
              "<Figure size 432x288 with 1 Axes>"
            ]
          },
          "metadata": {
            "needs_background": "light"
          }
        }
      ]
    },
    {
      "cell_type": "markdown",
      "metadata": {
        "id": "Cc_ElkOsfl9U"
      },
      "source": [
        "# Evaluate Test set"
      ]
    },
    {
      "cell_type": "code",
      "metadata": {
        "id": "oG1AXCXQVCw9"
      },
      "source": [
        "y_pred = model.predict(x_test_new)\n",
        "# y_pred = np.argmax(y_pred);\n",
        "y_pred=np.apply_along_axis(np.argmax, 1, y_pred)"
      ],
      "execution_count": null,
      "outputs": []
    },
    {
      "cell_type": "markdown",
      "metadata": {
        "id": "I4_YRNCIf1-9"
      },
      "source": [
        "# Build Confusion Metrix"
      ]
    },
    {
      "cell_type": "code",
      "metadata": {
        "colab": {
          "base_uri": "https://localhost:8080/"
        },
        "id": "JbRO_rRWXaX4",
        "outputId": "b76def0b-c39a-4c08-fb60-ab5a6f822678"
      },
      "source": [
        "from sklearn.metrics import confusion_matrix, accuracy_score\n",
        "cm = confusion_matrix(y_test, y_pred)\n",
        "print(cm)\n",
        "accuracy_score(y_test, y_pred)"
      ],
      "execution_count": null,
      "outputs": [
        {
          "output_type": "stream",
          "name": "stdout",
          "text": [
            "[[ 977    1    0    0    0    0    0    1    1    0]\n",
            " [   0 1133    0    1    0    0    0    0    1    0]\n",
            " [   0    0 1023    0    2    0    0    4    2    1]\n",
            " [   2    1    1  991    0    7    0    1    7    0]\n",
            " [   0    1    1    0  967    0    2    3    1    7]\n",
            " [   3    0    1    6    0  876    2    0    1    3]\n",
            " [   4    5    1    0    2    1  944    0    1    0]\n",
            " [   0    5    3    0    0    0    0 1017    1    2]\n",
            " [   2    0    3    0    1    0    0    3  963    2]\n",
            " [   0    0    1    0    6    4    0    3    3  992]]\n"
          ]
        },
        {
          "output_type": "execute_result",
          "data": {
            "text/plain": [
              "0.9883"
            ]
          },
          "metadata": {},
          "execution_count": 11
        }
      ]
    },
    {
      "cell_type": "code",
      "metadata": {
        "colab": {
          "base_uri": "https://localhost:8080/",
          "height": 295
        },
        "id": "fgHoK1Vc4YJP",
        "outputId": "8ffde6f0-1cc8-4d81-fd4d-76ccb0d9cb71"
      },
      "source": [
        "plt.plot(history.history['accuracy'])\n",
        "plt.plot(history.history['val_accuracy'])\n",
        "plt.title('model accuracy')\n",
        "plt.ylabel('accuracy')\n",
        "plt.xlabel('epoch')\n",
        "plt.legend(['train', 'test'], loc='upper left')\n",
        "plt.show()\n"
      ],
      "execution_count": null,
      "outputs": [
        {
          "output_type": "display_data",
          "data": {
            "image/png": "[encoded data removed]",
            "text/plain": [
              "<Figure size 432x288 with 1 Axes>"
            ]
          },
          "metadata": {
            "needs_background": "light"
          }
        }
      ]
    },
    {
      "cell_type": "code",
      "metadata": {
        "colab": {
          "base_uri": "https://localhost:8080/",
          "height": 295
        },
        "id": "QEFHFuUt_775",
        "outputId": "fd5bab18-55ba-4dbc-cd31-66af669d4f5a"
      },
      "source": [
        "plt.plot(history.history['loss'], label='training loss')\n",
        "plt.plot(history.history['val_loss'], label='test loss')\n",
        "plt.title('mnist Loss Graph')\n",
        "plt.ylabel('loss')\n",
        "plt.xlabel('No. epoch')\n",
        "plt.legend(loc=\"upper left\")\n",
        "plt.show()"
      ],
      "execution_count": null,
      "outputs": [
        {
          "output_type": "display_data",
          "data": {
            "image/png": "[encoded data removed]",
            "text/plain": [
              "<Figure size 432x288 with 1 Axes>"
            ]
          },
          "metadata": {
            "needs_background": "light"
          }
        }
      ]
    }
  ]
}