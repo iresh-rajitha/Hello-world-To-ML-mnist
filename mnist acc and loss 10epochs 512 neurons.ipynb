{
  "nbformat": 4,
  "nbformat_minor": 0,
  "metadata": {
    "colab": {
      "name": "DLN1.ipynb",
      "provenance": [],
      "collapsed_sections": [],
      "toc_visible": true
    },
    "kernelspec": {
      "name": "python3",
      "display_name": "Python 3"
    },
    "language_info": {
      "name": "python"
    }
  },
  "cells": [
    {
      "cell_type": "markdown",
      "metadata": {
        "id": "a8Fk5fKre7p_"
      },
      "source": [
        "# Import Data and Library"
      ]
    },
    {
      "cell_type": "code",
      "metadata": {
        "id": "8onofi4PUkIS",
        "colab": {
          "base_uri": "https://localhost:8080/"
        },
        "outputId": "48ab0778-cf42-46ef-b134-87bd1437eb4e"
      },
      "source": [
        "import tensorflow as tf\n",
        "import matplotlib.pyplot as plt\n",
        "import numpy as np\n",
        "import keras.utils\n",
        "import pandas as pd\n",
        "\n",
        "mnist = tf.keras.datasets.mnist\n",
        "(x_train, y_train),(x_test, y_test) = mnist.load_data()\n",
        "\n",
        "# x_train = x_train.reshape((x_train.shape[0], 28, 28, 1))\n",
        "# y_train = to_categorical(y_train)\n",
        "\n",
        "x_train = tf.keras.utils.normalize(x_train, axis=1)\n",
        "x_test = tf.keras.utils.normalize(x_test, axis=1)\n"
      ],
      "execution_count": 1,
      "outputs": [
        {
          "output_type": "stream",
          "name": "stdout",
          "text": [
            "Downloading data from https://storage.googleapis.com/tensorflow/tf-keras-datasets/mnist.npz\n",
            "11493376/11490434 [==============================] - 0s 0us/step\n",
            "11501568/11490434 [==============================] - 0s 0us/step\n"
          ]
        }
      ]
    },
    {
      "cell_type": "markdown",
      "metadata": {
        "id": "COfuqf_VfDJx"
      },
      "source": [
        "# Print Shape Of input data"
      ]
    },
    {
      "cell_type": "code",
      "metadata": {
        "colab": {
          "base_uri": "https://localhost:8080/"
        },
        "id": "8xvJDUNRsbgk",
        "outputId": "8995ca12-2f9f-4998-c697-ca3c4df95e3b"
      },
      "source": [
        "x_train.shape"
      ],
      "execution_count": 2,
      "outputs": [
        {
          "output_type": "execute_result",
          "data": {
            "text/plain": [
              "(60000, 28, 28)"
            ]
          },
          "metadata": {},
          "execution_count": 2
        }
      ]
    },
    {
      "cell_type": "code",
      "metadata": {
        "colab": {
          "base_uri": "https://localhost:8080/"
        },
        "id": "99MvAUG-LqbR",
        "outputId": "74184b9e-7577-41bf-e214-c3c04326d671"
      },
      "source": [
        "x_train[0].shape"
      ],
      "execution_count": 3,
      "outputs": [
        {
          "output_type": "execute_result",
          "data": {
            "text/plain": [
              "(28, 28)"
            ]
          },
          "metadata": {},
          "execution_count": 3
        }
      ]
    },
    {
      "cell_type": "markdown",
      "metadata": {
        "id": "_EeH-gBtfNQ8"
      },
      "source": [
        "# Add one dimension to dataset"
      ]
    },
    {
      "cell_type": "code",
      "metadata": {
        "colab": {
          "base_uri": "https://localhost:8080/"
        },
        "id": "9UkXYhXoP_t3",
        "outputId": "c80b599f-2844-4873-a4ea-26455fe9a784"
      },
      "source": [
        "image_size= 28\n",
        "x_train_new = np.array(x_train).reshape(-1, image_size , image_size , 1)\n",
        "x_test_new = np.array(x_test).reshape(-1, image_size , image_size , 1)\n",
        "x_train_new.shape[1:]"
      ],
      "execution_count": 4,
      "outputs": [
        {
          "output_type": "execute_result",
          "data": {
            "text/plain": [
              "(28, 28, 1)"
            ]
          },
          "metadata": {},
          "execution_count": 4
        }
      ]
    },
    {
      "cell_type": "markdown",
      "metadata": {
        "id": "pgPp1GPifZ7R"
      },
      "source": [
        "# Make CNN model"
      ]
    },
    {
      "cell_type": "code",
      "metadata": {
        "id": "xKGHdZIXY25X",
        "colab": {
          "base_uri": "https://localhost:8080/"
        },
        "outputId": "cddf5b31-3e4f-44e9-e01c-bd043d6092dd"
      },
      "source": [
        "model = tf.keras.models.Sequential()\n",
        "## first cnn layer\n",
        "model.add(tf.keras.layers.Conv2D(64, (3,3), input_shape = x_train_new.shape[1:]))\n",
        "model.add(tf.keras.layers.MaxPool2D(pool_size=(2,2)))\n",
        "# second cnn layer\n",
        "model.add(tf.keras.layers.Conv2D(filters=32, kernel_size=3, activation='relu'))\n",
        "model.add(tf.keras.layers.MaxPool2D(pool_size=2, strides=2))\n",
        "\n",
        "model.add(tf.keras.layers.Flatten())\n",
        "model.add(tf.keras.layers.Dense(512, activation=tf.nn.relu))\n",
        "model.add(tf.keras.layers.Dense(512, activation=tf.nn.relu))\n",
        "model.add(tf.keras.layers.Dense(10, activation=tf.nn.softmax))\n",
        "model.compile(optimizer='adam',\n",
        "              loss='sparse_categorical_crossentropy',\n",
        "              metrics=['accuracy'])\n",
        "# model.compile(optimizer='adam',\n",
        "#               loss='binary_crossentropy',\n",
        "#               metrics=['accuracy'])\n",
        "# model.compile(optimizer='adam',\n",
        "#               loss='categorical_crossentropy',\n",
        "#               metrics=['accuracy'])\n",
        "model.summary()"
      ],
      "execution_count": 5,
      "outputs": [
        {
          "output_type": "stream",
          "name": "stdout",
          "text": [
            "Model: \"sequential\"\n",
            "_________________________________________________________________\n",
            "Layer (type)                 Output Shape              Param #   \n",
            "=================================================================\n",
            "conv2d (Conv2D)              (None, 26, 26, 64)        640       \n",
            "_________________________________________________________________\n",
            "max_pooling2d (MaxPooling2D) (None, 13, 13, 64)        0         \n",
            "_________________________________________________________________\n",
            "conv2d_1 (Conv2D)            (None, 11, 11, 32)        18464     \n",
            "_________________________________________________________________\n",
            "max_pooling2d_1 (MaxPooling2 (None, 5, 5, 32)          0         \n",
            "_________________________________________________________________\n",
            "flatten (Flatten)            (None, 800)               0         \n",
            "_________________________________________________________________\n",
            "dense (Dense)                (None, 512)               410112    \n",
            "_________________________________________________________________\n",
            "dense_1 (Dense)              (None, 512)               262656    \n",
            "_________________________________________________________________\n",
            "dense_2 (Dense)              (None, 10)                5130      \n",
            "=================================================================\n",
            "Total params: 697,002\n",
            "Trainable params: 697,002\n",
            "Non-trainable params: 0\n",
            "_________________________________________________________________\n"
          ]
        }
      ]
    },
    {
      "cell_type": "markdown",
      "metadata": {
        "id": "0cvhTCb-fg4n"
      },
      "source": [
        "# Train the model"
      ]
    },
    {
      "cell_type": "code",
      "metadata": {
        "colab": {
          "base_uri": "https://localhost:8080/"
        },
        "id": "drT4EcN0ZhhR",
        "outputId": "9e89e1d1-82e5-494c-ed53-efcbe9805d78"
      },
      "source": [
        "history = model.fit( x_train_new, y_train, epochs=10, validation_data=(x_test_new, y_test))"
      ],
      "execution_count": 6,
      "outputs": [
        {
          "output_type": "stream",
          "name": "stdout",
          "text": [
            "Epoch 1/10\n",
            "1875/1875 [==============================] - 72s 38ms/step - loss: 0.1408 - accuracy: 0.9558 - val_loss: 0.0651 - val_accuracy: 0.9811\n",
            "Epoch 2/10\n",
            "1875/1875 [==============================] - 72s 38ms/step - loss: 0.0512 - accuracy: 0.9845 - val_loss: 0.0495 - val_accuracy: 0.9846\n",
            "Epoch 3/10\n",
            "1875/1875 [==============================] - 72s 38ms/step - loss: 0.0378 - accuracy: 0.9881 - val_loss: 0.0408 - val_accuracy: 0.9875\n",
            "Epoch 4/10\n",
            "1875/1875 [==============================] - 71s 38ms/step - loss: 0.0278 - accuracy: 0.9914 - val_loss: 0.0462 - val_accuracy: 0.9865\n",
            "Epoch 5/10\n",
            "1875/1875 [==============================] - 72s 38ms/step - loss: 0.0218 - accuracy: 0.9933 - val_loss: 0.0602 - val_accuracy: 0.9850\n",
            "Epoch 6/10\n",
            "1875/1875 [==============================] - 72s 38ms/step - loss: 0.0200 - accuracy: 0.9941 - val_loss: 0.0451 - val_accuracy: 0.9874\n",
            "Epoch 7/10\n",
            "1875/1875 [==============================] - 71s 38ms/step - loss: 0.0163 - accuracy: 0.9954 - val_loss: 0.0432 - val_accuracy: 0.9892\n",
            "Epoch 8/10\n",
            "1875/1875 [==============================] - 72s 38ms/step - loss: 0.0145 - accuracy: 0.9957 - val_loss: 0.0614 - val_accuracy: 0.9880\n",
            "Epoch 9/10\n",
            "1875/1875 [==============================] - 72s 38ms/step - loss: 0.0136 - accuracy: 0.9959 - val_loss: 0.0660 - val_accuracy: 0.9868\n",
            "Epoch 10/10\n",
            "1875/1875 [==============================] - 72s 38ms/step - loss: 0.0114 - accuracy: 0.9965 - val_loss: 0.0527 - val_accuracy: 0.9889\n"
          ]
        }
      ]
    },
    {
      "cell_type": "code",
      "metadata": {
        "colab": {
          "base_uri": "https://localhost:8080/"
        },
        "id": "rIi65eDl2CDZ",
        "outputId": "115b3c3b-074c-496e-848f-748ea0509722"
      },
      "source": [
        "print(history.history.keys())"
      ],
      "execution_count": 7,
      "outputs": [
        {
          "output_type": "stream",
          "name": "stdout",
          "text": [
            "dict_keys(['loss', 'accuracy', 'val_loss', 'val_accuracy'])\n"
          ]
        }
      ]
    },
    {
      "cell_type": "markdown",
      "metadata": {
        "id": "q57xsY1nf-l-"
      },
      "source": [
        "# Evaluate Single dataset"
      ]
    },
    {
      "cell_type": "code",
      "metadata": {
        "colab": {
          "base_uri": "https://localhost:8080/"
        },
        "id": "197do_YAan2U",
        "outputId": "3365598f-80e7-4bb8-ca9f-d3a2832bc7eb"
      },
      "source": [
        "predictions = model.predict(x_test_new)\n",
        "print(np.argmax(predictions[1335]))"
      ],
      "execution_count": 8,
      "outputs": [
        {
          "output_type": "stream",
          "name": "stdout",
          "text": [
            "2\n"
          ]
        }
      ]
    },
    {
      "cell_type": "code",
      "metadata": {
        "colab": {
          "base_uri": "https://localhost:8080/",
          "height": 265
        },
        "id": "Qbtj9AB6bDhf",
        "outputId": "2fea37c5-7574-4443-b379-a98c06fed6bc"
      },
      "source": [
        "plt.imshow(x_test[1335],cmap=plt.cm.binary)\n",
        "plt.show()"
      ],
      "execution_count": 9,
      "outputs": [
        {
          "output_type": "display_data",
          "data": {
            "image/png": "[encoded data removed]",
            "text/plain": [
              "<Figure size 432x288 with 1 Axes>"
            ]
          },
          "metadata": {
            "needs_background": "light"
          }
        }
      ]
    },
    {
      "cell_type": "markdown",
      "metadata": {
        "id": "Cc_ElkOsfl9U"
      },
      "source": [
        "# Evaluate Test set"
      ]
    },
    {
      "cell_type": "code",
      "metadata": {
        "id": "oG1AXCXQVCw9"
      },
      "source": [
        "y_pred = model.predict(x_test_new)\n",
        "# y_pred = np.argmax(y_pred);\n",
        "y_pred=np.apply_along_axis(np.argmax, 1, y_pred)"
      ],
      "execution_count": 10,
      "outputs": []
    },
    {
      "cell_type": "markdown",
      "metadata": {
        "id": "I4_YRNCIf1-9"
      },
      "source": [
        "# Build Confusion Metrix"
      ]
    },
    {
      "cell_type": "code",
      "metadata": {
        "colab": {
          "base_uri": "https://localhost:8080/"
        },
        "id": "JbRO_rRWXaX4",
        "outputId": "2a86a199-9fc2-420e-aa2b-9dc93e325118"
      },
      "source": [
        "from sklearn.metrics import confusion_matrix, accuracy_score\n",
        "cm = confusion_matrix(y_test, y_pred)\n",
        "print(cm)\n",
        "accuracy_score(y_test, y_pred)"
      ],
      "execution_count": 11,
      "outputs": [
        {
          "output_type": "stream",
          "name": "stdout",
          "text": [
            "[[ 976    0    0    0    0    0    3    1    0    0]\n",
            " [   0 1122    1    3    0    3    4    2    0    0]\n",
            " [   0    0 1028    0    1    0    0    3    0    0]\n",
            " [   0    0    3  998    0    3    0    0    5    1]\n",
            " [   1    1    4    0  965    0    1    4    0    6]\n",
            " [   2    0    1    7    0  879    1    1    0    1]\n",
            " [   5    3    2    0    1    1  945    0    1    0]\n",
            " [   0    0    3    0    0    0    0 1024    0    1]\n",
            " [   2    0    3    1    0    2    1    2  962    1]\n",
            " [   2    2    1    1    4    3    0    4    2  990]]\n"
          ]
        },
        {
          "output_type": "execute_result",
          "data": {
            "text/plain": [
              "0.9889"
            ]
          },
          "metadata": {},
          "execution_count": 11
        }
      ]
    },
    {
      "cell_type": "code",
      "metadata": {
        "colab": {
          "base_uri": "https://localhost:8080/",
          "height": 295
        },
        "id": "fgHoK1Vc4YJP",
        "outputId": "353f885e-287e-4e44-a717-8ffe8b723a65"
      },
      "source": [
        "plt.plot(history.history['accuracy'])\n",
        "plt.plot(history.history['val_accuracy'])\n",
        "plt.title('model accuracy')\n",
        "plt.ylabel('accuracy')\n",
        "plt.xlabel('epoch')\n",
        "plt.legend(['train', 'test'], loc='upper left')\n",
        "plt.show()\n"
      ],
      "execution_count": 12,
      "outputs": [
        {
          "output_type": "display_data",
          "data": {
            "image/png": "[encoded data removed]",
            "text/plain": [
              "<Figure size 432x288 with 1 Axes>"
            ]
          },
          "metadata": {
            "needs_background": "light"
          }
        }
      ]
    },
    {
      "cell_type": "code",
      "metadata": {
        "colab": {
          "base_uri": "https://localhost:8080/",
          "height": 295
        },
        "id": "QEFHFuUt_775",
        "outputId": "66f0ade1-9b38-4b1a-a526-7ad929daa82b"
      },
      "source": [
        "plt.plot(history.history['loss'], label='training accuracy')\n",
        "plt.plot(history.history['val_loss'], label='test accuracy')\n",
        "plt.title('MAE for Chennai Reservoir Levels')\n",
        "plt.ylabel('MAE value')\n",
        "plt.xlabel('No. epoch')\n",
        "plt.legend(loc=\"upper left\")\n",
        "plt.show()"
      ],
      "execution_count": 13,
      "outputs": [
        {
          "output_type": "display_data",
          "data": {
            "image/png": "[encoded data removed]",
            "text/plain": [
              "<Figure size 432x288 with 1 Axes>"
            ]
          },
          "metadata": {
            "needs_background": "light"
          }
        }
      ]
    }
  ]
}
