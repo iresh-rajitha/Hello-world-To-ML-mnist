{
  "nbformat": 4,
  "nbformat_minor": 0,
  "metadata": {
    "colab": {
      "name": "DLN1.ipynb",
      "provenance": [],
      "collapsed_sections": [],
      "toc_visible": true
    },
    "kernelspec": {
      "name": "python3",
      "display_name": "Python 3"
    },
    "language_info": {
      "name": "python"
    }
  },
  "cells": [
    {
      "cell_type": "markdown",
      "metadata": {
        "id": "a8Fk5fKre7p_"
      },
      "source": [
        "# Import Data and Library"
      ]
    },
    {
      "cell_type": "code",
      "metadata": {
        "id": "8onofi4PUkIS",
        "outputId": "7c69711f-0380-40dc-d194-fd469b6eee18",
        "colab": {
          "base_uri": "https://localhost:8080/"
        }
      },
      "source": [
        "import tensorflow as tf\n",
        "import matplotlib.pyplot as plt\n",
        "import numpy as np\n",
        "import keras.utils\n",
        "import pandas as pd\n",
        "\n",
        "mnist = tf.keras.datasets.mnist\n",
        "(x_train, y_train),(x_test, y_test) = mnist.load_data()\n",
        "\n",
        "# x_train = x_train.reshape((x_train.shape[0], 28, 28, 1))\n",
        "# y_train = to_categorical(y_train)\n",
        "\n",
        "x_train = tf.keras.utils.normalize(x_train, axis=1)\n",
        "x_test = tf.keras.utils.normalize(x_test, axis=1)\n"
      ],
      "execution_count": 1,
      "outputs": [
        {
          "output_type": "stream",
          "name": "stdout",
          "text": [
            "Downloading data from https://storage.googleapis.com/tensorflow/tf-keras-datasets/mnist.npz\n",
            "11493376/11490434 [==============================] - 0s 0us/step\n",
            "11501568/11490434 [==============================] - 0s 0us/step\n"
          ]
        }
      ]
    },
    {
      "cell_type": "markdown",
      "metadata": {
        "id": "COfuqf_VfDJx"
      },
      "source": [
        "# Print Shape Of input data"
      ]
    },
    {
      "cell_type": "code",
      "metadata": {
        "colab": {
          "base_uri": "https://localhost:8080/"
        },
        "id": "8xvJDUNRsbgk",
        "outputId": "f3fe01ee-2917-4b5a-cbb3-aa6c0b660a0b"
      },
      "source": [
        "x_train.shape"
      ],
      "execution_count": 2,
      "outputs": [
        {
          "output_type": "execute_result",
          "data": {
            "text/plain": [
              "(60000, 28, 28)"
            ]
          },
          "metadata": {},
          "execution_count": 2
        }
      ]
    },
    {
      "cell_type": "code",
      "metadata": {
        "colab": {
          "base_uri": "https://localhost:8080/"
        },
        "id": "99MvAUG-LqbR",
        "outputId": "ffcd4125-a174-46d0-c558-03b2d456d228"
      },
      "source": [
        "x_train[0].shape"
      ],
      "execution_count": 3,
      "outputs": [
        {
          "output_type": "execute_result",
          "data": {
            "text/plain": [
              "(28, 28)"
            ]
          },
          "metadata": {},
          "execution_count": 3
        }
      ]
    },
    {
      "cell_type": "markdown",
      "metadata": {
        "id": "_EeH-gBtfNQ8"
      },
      "source": [
        "# Add one dimension to dataset"
      ]
    },
    {
      "cell_type": "code",
      "metadata": {
        "colab": {
          "base_uri": "https://localhost:8080/"
        },
        "id": "9UkXYhXoP_t3",
        "outputId": "3ad5a0a9-1bf8-414b-f33c-e9060d9ab86a"
      },
      "source": [
        "image_size= 28\n",
        "x_train_new = np.array(x_train).reshape(-1, image_size , image_size , 1)\n",
        "x_test_new = np.array(x_test).reshape(-1, image_size , image_size , 1)\n",
        "x_train_new.shape[1:]"
      ],
      "execution_count": 4,
      "outputs": [
        {
          "output_type": "execute_result",
          "data": {
            "text/plain": [
              "(28, 28, 1)"
            ]
          },
          "metadata": {},
          "execution_count": 4
        }
      ]
    },
    {
      "cell_type": "markdown",
      "metadata": {
        "id": "pgPp1GPifZ7R"
      },
      "source": [
        "# Make CNN model"
      ]
    },
    {
      "cell_type": "code",
      "metadata": {
        "id": "xKGHdZIXY25X",
        "colab": {
          "base_uri": "https://localhost:8080/"
        },
        "outputId": "ccfb169b-300b-4a31-c6de-f6a8db354f65"
      },
      "source": [
        "model = tf.keras.models.Sequential()\n",
        "## first cnn layer\n",
        "model.add(tf.keras.layers.Conv2D(64, (3,3), input_shape = x_train_new.shape[1:]))\n",
        "model.add(tf.keras.layers.MaxPool2D(pool_size=(2,2)))\n",
        "# second cnn layer\n",
        "model.add(tf.keras.layers.Conv2D(filters=32, kernel_size=3, activation='relu'))\n",
        "model.add(tf.keras.layers.MaxPool2D(pool_size=2, strides=2))\n",
        "\n",
        "model.add(tf.keras.layers.Flatten())\n",
        "model.add(tf.keras.layers.Dense(512, activation=tf.nn.relu))\n",
        "model.add(tf.keras.layers.Dense(512, activation=tf.nn.relu))\n",
        "model.add(tf.keras.layers.Dense(10, activation=tf.nn.softmax))\n",
        "model.compile(optimizer='adam',\n",
        "              loss='sparse_categorical_crossentropy',\n",
        "              metrics=['accuracy'])\n",
        "# model.compile(optimizer='adam',\n",
        "#               loss='binary_crossentropy',\n",
        "#               metrics=['accuracy'])\n",
        "# model.compile(optimizer='adam',\n",
        "#               loss='categorical_crossentropy',\n",
        "#               metrics=['accuracy'])\n",
        "model.summary()"
      ],
      "execution_count": 5,
      "outputs": [
        {
          "output_type": "stream",
          "name": "stdout",
          "text": [
            "Model: \"sequential\"\n",
            "_________________________________________________________________\n",
            "Layer (type)                 Output Shape              Param #   \n",
            "=================================================================\n",
            "conv2d (Conv2D)              (None, 26, 26, 64)        640       \n",
            "_________________________________________________________________\n",
            "max_pooling2d (MaxPooling2D) (None, 13, 13, 64)        0         \n",
            "_________________________________________________________________\n",
            "conv2d_1 (Conv2D)            (None, 11, 11, 32)        18464     \n",
            "_________________________________________________________________\n",
            "max_pooling2d_1 (MaxPooling2 (None, 5, 5, 32)          0         \n",
            "_________________________________________________________________\n",
            "flatten (Flatten)            (None, 800)               0         \n",
            "_________________________________________________________________\n",
            "dense (Dense)                (None, 512)               410112    \n",
            "_________________________________________________________________\n",
            "dense_1 (Dense)              (None, 512)               262656    \n",
            "_________________________________________________________________\n",
            "dense_2 (Dense)              (None, 10)                5130      \n",
            "=================================================================\n",
            "Total params: 697,002\n",
            "Trainable params: 697,002\n",
            "Non-trainable params: 0\n",
            "_________________________________________________________________\n"
          ]
        }
      ]
    },
    {
      "cell_type": "markdown",
      "metadata": {
        "id": "0cvhTCb-fg4n"
      },
      "source": [
        "# Train the model"
      ]
    },
    {
      "cell_type": "code",
      "metadata": {
        "colab": {
          "base_uri": "https://localhost:8080/"
        },
        "id": "drT4EcN0ZhhR",
        "outputId": "0eeaf1bd-7c9f-4b61-9508-a585168e12d4"
      },
      "source": [
        "history = model.fit( x_train_new, y_train, epochs=3, validation_data=(x_test_new, y_test))"
      ],
      "execution_count": 6,
      "outputs": [
        {
          "output_type": "stream",
          "name": "stdout",
          "text": [
            "Epoch 1/3\n",
            "1875/1875 [==============================] - 87s 46ms/step - loss: 0.1414 - accuracy: 0.9566 - val_loss: 0.0646 - val_accuracy: 0.9795\n",
            "Epoch 2/3\n",
            "1875/1875 [==============================] - 85s 45ms/step - loss: 0.0511 - accuracy: 0.9841 - val_loss: 0.0497 - val_accuracy: 0.9836\n",
            "Epoch 3/3\n",
            "1875/1875 [==============================] - 85s 45ms/step - loss: 0.0354 - accuracy: 0.9888 - val_loss: 0.0383 - val_accuracy: 0.9889\n"
          ]
        }
      ]
    },
    {
      "cell_type": "code",
      "metadata": {
        "colab": {
          "base_uri": "https://localhost:8080/"
        },
        "id": "rIi65eDl2CDZ",
        "outputId": "82c5dbe7-237a-46e3-9314-c97a99a90e24"
      },
      "source": [
        "print(history.history.keys())"
      ],
      "execution_count": 7,
      "outputs": [
        {
          "output_type": "stream",
          "name": "stdout",
          "text": [
            "dict_keys(['loss', 'accuracy', 'val_loss', 'val_accuracy'])\n"
          ]
        }
      ]
    },
    {
      "cell_type": "markdown",
      "metadata": {
        "id": "q57xsY1nf-l-"
      },
      "source": [
        "# Evaluate Single dataset"
      ]
    },
    {
      "cell_type": "code",
      "metadata": {
        "colab": {
          "base_uri": "https://localhost:8080/"
        },
        "id": "197do_YAan2U",
        "outputId": "f5b914a1-755d-40fa-f33f-31e61b66a36d"
      },
      "source": [
        "predictions = model.predict(x_test_new)\n",
        "print(np.argmax(predictions[1335]))"
      ],
      "execution_count": 8,
      "outputs": [
        {
          "output_type": "stream",
          "name": "stdout",
          "text": [
            "2\n"
          ]
        }
      ]
    },
    {
      "cell_type": "code",
      "metadata": {
        "colab": {
          "base_uri": "https://localhost:8080/",
          "height": 265
        },
        "id": "Qbtj9AB6bDhf",
        "outputId": "df5ed7c5-b204-42aa-c31e-049fc2336b4a"
      },
      "source": [
        "plt.imshow(x_test[1335],cmap=plt.cm.binary)\n",
        "plt.show()"
      ],
      "execution_count": 9,
      "outputs": [
        {
          "output_type": "display_data",
          "data": {
            "image/png": "[encoded data removed]",
            "text/plain": [
              "<Figure size 432x288 with 1 Axes>"
            ]
          },
          "metadata": {
            "needs_background": "light"
          }
        }
      ]
    },
    {
      "cell_type": "markdown",
      "metadata": {
        "id": "Cc_ElkOsfl9U"
      },
      "source": [
        "# Evaluate Test set"
      ]
    },
    {
      "cell_type": "code",
      "metadata": {
        "id": "oG1AXCXQVCw9"
      },
      "source": [
        "y_pred = model.predict(x_test_new)\n",
        "# y_pred = np.argmax(y_pred);\n",
        "y_pred=np.apply_along_axis(np.argmax, 1, y_pred)"
      ],
      "execution_count": 10,
      "outputs": []
    },
    {
      "cell_type": "markdown",
      "metadata": {
        "id": "I4_YRNCIf1-9"
      },
      "source": [
        "# Build Confusion Metrix"
      ]
    },
    {
      "cell_type": "code",
      "metadata": {
        "colab": {
          "base_uri": "https://localhost:8080/"
        },
        "id": "JbRO_rRWXaX4",
        "outputId": "a5f3348e-ce1a-437d-9e2f-c3f49363e2d4"
      },
      "source": [
        "from sklearn.metrics import confusion_matrix, accuracy_score\n",
        "cm = confusion_matrix(y_test, y_pred)\n",
        "print(cm)\n",
        "accuracy_score(y_test, y_pred)"
      ],
      "execution_count": 11,
      "outputs": [
        {
          "output_type": "stream",
          "name": "stdout",
          "text": [
            "[[ 973    1    0    1    0    0    2    1    2    0]\n",
            " [   0 1130    0    2    0    0    2    0    1    0]\n",
            " [   2    1 1021    0    0    0    0    6    2    0]\n",
            " [   0    1    2 1006    0    0    0    0    1    0]\n",
            " [   0    2    1    0  970    0    2    0    0    7]\n",
            " [   1    0    1   18    0  870    1    0    0    1]\n",
            " [   4    2    0    0    2    2  948    0    0    0]\n",
            " [   0    2    5    1    1    0    0 1016    1    2]\n",
            " [   1    0    1    3    4    2    0    1  961    1]\n",
            " [   0    2    0    6    3    2    0    2    0  994]]\n"
          ]
        },
        {
          "output_type": "execute_result",
          "data": {
            "text/plain": [
              "0.9889"
            ]
          },
          "metadata": {},
          "execution_count": 11
        }
      ]
    },
    {
      "cell_type": "code",
      "metadata": {
        "colab": {
          "base_uri": "https://localhost:8080/",
          "height": 295
        },
        "id": "fgHoK1Vc4YJP",
        "outputId": "acb3da97-84c6-4cd4-b6c7-749826c25fe9"
      },
      "source": [
        "plt.plot(history.history['accuracy'])\n",
        "plt.plot(history.history['val_accuracy'])\n",
        "plt.title('model accuracy')\n",
        "plt.ylabel('accuracy')\n",
        "plt.xlabel('epoch')\n",
        "plt.legend(['train', 'test'], loc='upper left')\n",
        "plt.show()\n"
      ],
      "execution_count": 12,
      "outputs": [
        {
          "output_type": "display_data",
          "data": {
            "image/png": "[encoded data removed]",
            "text/plain": [
              "<Figure size 432x288 with 1 Axes>"
            ]
          },
          "metadata": {
            "needs_background": "light"
          }
        }
      ]
    },
    {
      "cell_type": "code",
      "metadata": {
        "colab": {
          "base_uri": "https://localhost:8080/",
          "height": 295
        },
        "id": "QEFHFuUt_775",
        "outputId": "98aa4987-02a6-482d-f470-1abed115d0fb"
      },
      "source": [
        "plt.plot(history.history['loss'], label='training accuracy')\n",
        "plt.plot(history.history['val_loss'], label='test accuracy')\n",
        "plt.title('MAE for Chennai Reservoir Levels')\n",
        "plt.ylabel('MAE value')\n",
        "plt.xlabel('No. epoch')\n",
        "plt.legend(loc=\"upper left\")\n",
        "plt.show()"
      ],
      "execution_count": 13,
      "outputs": [
        {
          "output_type": "display_data",
          "data": {
            "image/png": "[encoded data removed]",
            "text/plain": [
              "<Figure size 432x288 with 1 Axes>"
            ]
          },
          "metadata": {
            "needs_background": "light"
          }
        }
      ]
    }
  ]
}