{
  "nbformat": 4,
  "nbformat_minor": 0,
  "metadata": {
    "colab": {
      "name": "DLN1.ipynb",
      "provenance": [],
      "collapsed_sections": [],
      "toc_visible": true
    },
    "kernelspec": {
      "name": "python3",
      "display_name": "Python 3"
    },
    "language_info": {
      "name": "python"
    }
  },
  "cells": [
    {
      "cell_type": "markdown",
      "metadata": {
        "id": "a8Fk5fKre7p_"
      },
      "source": [
        "# Import Data and Library"
      ]
    },
    {
      "cell_type": "code",
      "metadata": {
        "id": "8onofi4PUkIS"
      },
      "source": [
        "import tensorflow as tf\n",
        "import matplotlib.pyplot as plt\n",
        "import numpy as np\n",
        "import keras.utils\n",
        "import pandas as pd\n",
        "\n",
        "mnist = tf.keras.datasets.mnist\n",
        "(x_train, y_train),(x_test, y_test) = mnist.load_data()\n",
        "\n",
        "# x_train = x_train.reshape((x_train.shape[0], 28, 28, 1))\n",
        "# y_train = to_categorical(y_train)\n",
        "\n",
        "x_train = tf.keras.utils.normalize(x_train, axis=1)\n",
        "x_test = tf.keras.utils.normalize(x_test, axis=1)\n"
      ],
      "execution_count": 38,
      "outputs": []
    },
    {
      "cell_type": "markdown",
      "metadata": {
        "id": "COfuqf_VfDJx"
      },
      "source": [
        "# Print Shape Of input data"
      ]
    },
    {
      "cell_type": "code",
      "metadata": {
        "colab": {
          "base_uri": "https://localhost:8080/"
        },
        "id": "8xvJDUNRsbgk",
        "outputId": "57dcfc8c-f1b2-4199-faa1-4c977fb0e499"
      },
      "source": [
        "x_train.shape"
      ],
      "execution_count": 39,
      "outputs": [
        {
          "output_type": "execute_result",
          "data": {
            "text/plain": [
              "(60000, 28, 28)"
            ]
          },
          "metadata": {},
          "execution_count": 39
        }
      ]
    },
    {
      "cell_type": "code",
      "metadata": {
        "colab": {
          "base_uri": "https://localhost:8080/"
        },
        "id": "99MvAUG-LqbR",
        "outputId": "f76fcd0a-970e-4d7c-9e36-ae220ef64b3d"
      },
      "source": [
        "x_train[0].shape"
      ],
      "execution_count": 40,
      "outputs": [
        {
          "output_type": "execute_result",
          "data": {
            "text/plain": [
              "(28, 28)"
            ]
          },
          "metadata": {},
          "execution_count": 40
        }
      ]
    },
    {
      "cell_type": "markdown",
      "metadata": {
        "id": "_EeH-gBtfNQ8"
      },
      "source": [
        "# Add one dimension to dataset"
      ]
    },
    {
      "cell_type": "code",
      "metadata": {
        "colab": {
          "base_uri": "https://localhost:8080/"
        },
        "id": "9UkXYhXoP_t3",
        "outputId": "dba2c864-1201-44d5-ca9b-5dc4e1b6df3f"
      },
      "source": [
        "image_size= 28\n",
        "x_train_new = np.array(x_train).reshape(-1, image_size , image_size , 1)\n",
        "x_test_new = np.array(x_test).reshape(-1, image_size , image_size , 1)\n",
        "x_train_new.shape[1:]"
      ],
      "execution_count": 41,
      "outputs": [
        {
          "output_type": "execute_result",
          "data": {
            "text/plain": [
              "(28, 28, 1)"
            ]
          },
          "metadata": {},
          "execution_count": 41
        }
      ]
    },
    {
      "cell_type": "markdown",
      "metadata": {
        "id": "pgPp1GPifZ7R"
      },
      "source": [
        "# Make CNN model"
      ]
    },
    {
      "cell_type": "code",
      "metadata": {
        "id": "xKGHdZIXY25X",
        "colab": {
          "base_uri": "https://localhost:8080/"
        },
        "outputId": "a12b7816-5d86-43a5-c9f6-c0b935d41419"
      },
      "source": [
        "model = tf.keras.models.Sequential()\n",
        "## first cnn layer\n",
        "model.add(tf.keras.layers.Conv2D(64, (3,3), input_shape = x_train_new.shape[1:]))\n",
        "model.add(tf.keras.layers.MaxPool2D(pool_size=(2,2)))\n",
        "# second cnn layer\n",
        "model.add(tf.keras.layers.Conv2D(filters=32, kernel_size=3, activation='relu'))\n",
        "model.add(tf.keras.layers.MaxPool2D(pool_size=2, strides=2))\n",
        "\n",
        "model.add(tf.keras.layers.Flatten())\n",
        "model.add(tf.keras.layers.Dense(128, activation=tf.nn.relu))\n",
        "model.add(tf.keras.layers.Dense(128, activation=tf.nn.relu))\n",
        "model.add(tf.keras.layers.Dense(10, activation=tf.nn.softmax))\n",
        "model.compile(optimizer='adam',\n",
        "              loss='sparse_categorical_crossentropy',\n",
        "              metrics=['accuracy'])\n",
        "# model.compile(optimizer='adam',\n",
        "#               loss='binary_crossentropy',\n",
        "#               metrics=['accuracy'])\n",
        "# model.compile(optimizer='adam',\n",
        "#               loss='categorical_crossentropy',\n",
        "#               metrics=['accuracy'])\n",
        "model.summary()"
      ],
      "execution_count": 42,
      "outputs": [
        {
          "output_type": "stream",
          "name": "stdout",
          "text": [
            "Model: \"sequential_4\"\n",
            "_________________________________________________________________\n",
            "Layer (type)                 Output Shape              Param #   \n",
            "=================================================================\n",
            "conv2d_8 (Conv2D)            (None, 26, 26, 64)        640       \n",
            "_________________________________________________________________\n",
            "max_pooling2d_8 (MaxPooling2 (None, 13, 13, 64)        0         \n",
            "_________________________________________________________________\n",
            "conv2d_9 (Conv2D)            (None, 11, 11, 32)        18464     \n",
            "_________________________________________________________________\n",
            "max_pooling2d_9 (MaxPooling2 (None, 5, 5, 32)          0         \n",
            "_________________________________________________________________\n",
            "flatten_4 (Flatten)          (None, 800)               0         \n",
            "_________________________________________________________________\n",
            "dense_12 (Dense)             (None, 128)               102528    \n",
            "_________________________________________________________________\n",
            "dense_13 (Dense)             (None, 128)               16512     \n",
            "_________________________________________________________________\n",
            "dense_14 (Dense)             (None, 10)                1290      \n",
            "=================================================================\n",
            "Total params: 139,434\n",
            "Trainable params: 139,434\n",
            "Non-trainable params: 0\n",
            "_________________________________________________________________\n"
          ]
        }
      ]
    },
    {
      "cell_type": "markdown",
      "metadata": {
        "id": "0cvhTCb-fg4n"
      },
      "source": [
        "# Train the model"
      ]
    },
    {
      "cell_type": "code",
      "metadata": {
        "colab": {
          "base_uri": "https://localhost:8080/"
        },
        "id": "drT4EcN0ZhhR",
        "outputId": "ffef5473-14b9-43ee-8f99-5dc2633f221c"
      },
      "source": [
        "history = model.fit( x_train_new, y_train, epochs=3, validation_data=(x_test_new, y_test))"
      ],
      "execution_count": 43,
      "outputs": [
        {
          "output_type": "stream",
          "name": "stdout",
          "text": [
            "Epoch 1/3\n",
            "1875/1875 [==============================] - 51s 27ms/step - loss: 0.1679 - accuracy: 0.9488 - val_loss: 0.0592 - val_accuracy: 0.9810\n",
            "Epoch 2/3\n",
            "1875/1875 [==============================] - 51s 27ms/step - loss: 0.0568 - accuracy: 0.9824 - val_loss: 0.0526 - val_accuracy: 0.9849\n",
            "Epoch 3/3\n",
            "1875/1875 [==============================] - 51s 27ms/step - loss: 0.0395 - accuracy: 0.9878 - val_loss: 0.0482 - val_accuracy: 0.9859\n"
          ]
        }
      ]
    },
    {
      "cell_type": "code",
      "metadata": {
        "colab": {
          "base_uri": "https://localhost:8080/"
        },
        "id": "rIi65eDl2CDZ",
        "outputId": "f8e061cd-1736-4934-9d28-90012ae6f1c4"
      },
      "source": [
        "print(history.history.keys())"
      ],
      "execution_count": 44,
      "outputs": [
        {
          "output_type": "stream",
          "name": "stdout",
          "text": [
            "dict_keys(['loss', 'accuracy', 'val_loss', 'val_accuracy'])\n"
          ]
        }
      ]
    },
    {
      "cell_type": "markdown",
      "metadata": {
        "id": "q57xsY1nf-l-"
      },
      "source": [
        "# Evaluate Single dataset"
      ]
    },
    {
      "cell_type": "code",
      "metadata": {
        "colab": {
          "base_uri": "https://localhost:8080/"
        },
        "id": "197do_YAan2U",
        "outputId": "4d354eb2-b6ee-46c4-be3e-fa2e97bc8e04"
      },
      "source": [
        "predictions = model.predict(x_test_new)\n",
        "print(np.argmax(predictions[1335]))"
      ],
      "execution_count": 45,
      "outputs": [
        {
          "output_type": "stream",
          "name": "stdout",
          "text": [
            "2\n"
          ]
        }
      ]
    },
    {
      "cell_type": "code",
      "metadata": {
        "colab": {
          "base_uri": "https://localhost:8080/",
          "height": 265
        },
        "id": "Qbtj9AB6bDhf",
        "outputId": "72605e6a-19db-4245-9ef9-1dce1df0cde1"
      },
      "source": [
        "plt.imshow(x_test[1335],cmap=plt.cm.binary)\n",
        "plt.show()"
      ],
      "execution_count": 46,
      "outputs": [
        {
          "output_type": "display_data",
          "data": {
            "image/png": "[encoded data removed]",
            "text/plain": [
              "<Figure size 432x288 with 1 Axes>"
            ]
          },
          "metadata": {
            "needs_background": "light"
          }
        }
      ]
    },
    {
      "cell_type": "markdown",
      "metadata": {
        "id": "Cc_ElkOsfl9U"
      },
      "source": [
        "# Evaluate Test set"
      ]
    },
    {
      "cell_type": "code",
      "metadata": {
        "id": "oG1AXCXQVCw9"
      },
      "source": [
        "y_pred = model.predict(x_test_new)\n",
        "# y_pred = np.argmax(y_pred);\n",
        "y_pred=np.apply_along_axis(np.argmax, 1, y_pred)"
      ],
      "execution_count": 47,
      "outputs": []
    },
    {
      "cell_type": "markdown",
      "metadata": {
        "id": "I4_YRNCIf1-9"
      },
      "source": [
        "# Build Confusion Metrix"
      ]
    },
    {
      "cell_type": "code",
      "metadata": {
        "colab": {
          "base_uri": "https://localhost:8080/"
        },
        "id": "JbRO_rRWXaX4",
        "outputId": "f31b1ac9-047f-46c3-e277-f688006ead5e"
      },
      "source": [
        "from sklearn.metrics import confusion_matrix, accuracy_score\n",
        "cm = confusion_matrix(y_test, y_pred)\n",
        "print(cm)\n",
        "accuracy_score(y_test, y_pred)"
      ],
      "execution_count": 48,
      "outputs": [
        {
          "output_type": "stream",
          "name": "stdout",
          "text": [
            "[[ 978    1    0    0    0    0    0    1    0    0]\n",
            " [   0 1132    0    3    0    0    0    0    0    0]\n",
            " [   3    0 1010    5    6    0    0    2    5    1]\n",
            " [   0    0    0  998    0    7    0    0    2    3]\n",
            " [   0    0    0    0  974    0    0    0    0    8]\n",
            " [   1    0    0    2    0  886    1    0    1    1]\n",
            " [  10    3    0    0    9    7  925    0    4    0]\n",
            " [   0    4    5    7    0    1    0  995    7    9]\n",
            " [   4    0    1    2    0    1    0    0  965    1]\n",
            " [   1    1    0    1    4    4    0    1    1  996]]\n"
          ]
        },
        {
          "output_type": "execute_result",
          "data": {
            "text/plain": [
              "0.9859"
            ]
          },
          "metadata": {},
          "execution_count": 48
        }
      ]
    },
    {
      "cell_type": "code",
      "metadata": {
        "colab": {
          "base_uri": "https://localhost:8080/",
          "height": 295
        },
        "id": "fgHoK1Vc4YJP",
        "outputId": "9590bdac-9335-4088-f318-ee8ce0b98aa5"
      },
      "source": [
        "plt.plot(history.history['accuracy'])\n",
        "plt.plot(history.history['val_accuracy'])\n",
        "plt.title('model accuracy')\n",
        "plt.ylabel('accuracy')\n",
        "plt.xlabel('epoch')\n",
        "plt.legend(['train', 'test'], loc='upper left')\n",
        "plt.show()\n"
      ],
      "execution_count": 52,
      "outputs": [
        {
          "output_type": "display_data",
          "data": {
            "image/png": "[encoded data removed]",
            "text/plain": [
              "<Figure size 432x288 with 1 Axes>"
            ]
          },
          "metadata": {
            "needs_background": "light"
          }
        }
      ]
    },
    {
      "cell_type": "code",
      "metadata": {
        "colab": {
          "base_uri": "https://localhost:8080/",
          "height": 295
        },
        "id": "QEFHFuUt_775",
        "outputId": "a402bfc1-926d-4327-f9fe-68a01a2f8acf"
      },
      "source": [
        "plt.plot(history.history['loss'], label='training accuracy')\n",
        "plt.plot(history.history['val_loss'], label='test accuracy')\n",
        "plt.title('MAE for Chennai Reservoir Levels')\n",
        "plt.ylabel('MAE value')\n",
        "plt.xlabel('No. epoch')\n",
        "plt.legend(loc=\"upper left\")\n",
        "plt.show()"
      ],
      "execution_count": 51,
      "outputs": [
        {
          "output_type": "display_data",
          "data": {
            "image/png": "[encoded data removed]",
            "text/plain": [
              "<Figure size 432x288 with 1 Axes>"
            ]
          },
          "metadata": {
            "needs_background": "light"
          }
        }
      ]
    }
  ]
}